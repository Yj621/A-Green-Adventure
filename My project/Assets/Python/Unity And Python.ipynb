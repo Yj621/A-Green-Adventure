{
 "cells": [
  {
   "cell_type": "code",
   "execution_count": 10,
   "id": "d8ae3815",
   "metadata": {},
   "outputs": [
    {
     "name": "stdout",
     "output_type": "stream",
     "text": [
      "현재 온도9.7°\n"
     ]
    },
    {
     "data": {
      "text/plain": [
       "'현재 온도9.7°'"
      ]
     },
     "execution_count": 10,
     "metadata": {},
     "output_type": "execute_result"
    }
   ],
   "source": [
    "import socket\n",
    "import time\n",
    "\n",
    "import requests\n",
    "from bs4 import BeautifulSoup\n",
    "import urllib\n",
    "import os\n",
    "\n",
    "# 현재 파일이 위치한 디렉토리의 절대경로를 구합니다.\n",
    "dir_path = os.path.abspath(os.getcwd())\n",
    "\n",
    "def get_weather_info():\n",
    "    city = \"김량장동\" \n",
    "    city = urllib.parse.quote(city + \"날씨\")\n",
    "    URL = \"https://search.naver.com/search.naver?where=nexearch&query=\" + city   \n",
    "    r = requests.get(URL)   \n",
    "    soup = BeautifulSoup(r.content, 'html5lib')\n",
    "    temp = soup.select_one('div._today > div.weather_graphic > div.temperature_text > strong').text\n",
    "    print(temp)\n",
    "\n",
    "    # 파일 경로와 이름을 결합하여 파일을 생성합니다.\n",
    "    file_path = os.path.join(dir_path, \"weather.txt\")\n",
    "    with open(file_path, 'w') as f:\n",
    "        f.write(temp)\n",
    "    return temp\n",
    "get_weather_info()"
   ]
  },
  {
   "cell_type": "markdown",
   "id": "dd7559ea",
   "metadata": {},
   "source": []
  },
  {
   "cell_type": "code",
   "execution_count": 11,
   "id": "4192cc54",
   "metadata": {},
   "outputs": [
    {
     "name": "stdout",
     "output_type": "stream",
     "text": [
      "\"원전 수출, 탄소중립 다 잡는다\"…4000억 비밀병기 SMR 정체\n",
      "예산군, 생활 속 탄소중립 실천 동참 결의\n",
      "예산군, 생활 속 탄소중립 실천 동참\n",
      "탄소중립 의지 없는 윤석열 정부 하에서 무엇을 할 것인가? [초록發光]\n",
      "\"정부 '제1차 탄소중립 기본계획' 절차와 내용 모든 면에서 문제\"\n",
      "포스코인터내셔널, ‘탄소 사업’(CCS) 새 성장동력으로 제시\n",
      "2050년 경제성장률 0%우려…KDI, 국가미래전략 논의\n",
      "포스코인터내셔널, 탄소 포집·저장 조직 신설…\"탄소중립 기반 마련\"\n",
      "포스코인터내셔널, ‘탄소 포집·저장’ 신성장 동력으로 낙점\n",
      "포스코인터, 탄소 포집·저장(CCS) 사업 키운다…\"탄소중립 기반 마련\"\n"
     ]
    },
    {
     "data": {
      "text/plain": [
       "'\"원전 수출, 탄소중립 다 잡는다\"…4000억 비밀병기 SMR 정체\\n예산군, 생활 속 탄소중립 실천 동참 결의\\n예산군, 생활 속 탄소중립 실천 동참\\n탄소중립 의지 없는 윤석열 정부 하에서 무엇을 할 것인가? [초록發光]\\n\"정부 \\'제1차 탄소중립 기본계획\\' 절차와 내용 모든 면에서 문제\"\\n포스코인터내셔널, ‘탄소 사업’(CCS) 새 성장동력으로 제시\\n2050년 경제성장률 0%우려…KDI, 국가미래전략 논의\\n포스코인터내셔널, 탄소 포집·저장 조직 신설…\"탄소중립 기반 마련\"\\n포스코인터내셔널, ‘탄소 포집·저장’ 신성장 동력으로 낙점\\n포스코인터, 탄소 포집·저장(CCS) 사업 키운다…\"탄소중립 기반 마련\"'"
      ]
     },
     "execution_count": 11,
     "metadata": {},
     "output_type": "execute_result"
    }
   ],
   "source": [
    "def get_news_info():\n",
    "    # 주제 검색\n",
    "    title = \"대한민국 탄소중립 2050\"\n",
    "    selector = 'section > div > div.group_news > ul > li a.news_tit'\n",
    "    title = urllib.parse.quote(title)\n",
    "    URL = \"https://search.naver.com/search.naver?where=news&query=\" + title   \n",
    "    r = requests.get(URL)   \n",
    "    soup = BeautifulSoup(r.content, 'html5lib')  \n",
    "    datas = [item.text for item in soup.select(selector)]\n",
    "    datas = \"\\n\".join(datas)\n",
    "    print(datas)\n",
    "\n",
    "    file_path = os.path.join(dir_path, \"news.txt\")\n",
    "    with open(file_path, 'w') as f:\n",
    "        f.write(datas)\n",
    "    return datas\n",
    "get_news_info()\n"
   ]
  },
  {
   "cell_type": "code",
   "execution_count": 12,
   "id": "0a2ca0c2",
   "metadata": {},
   "outputs": [
    {
     "ename": "NotImplementedError",
     "evalue": "Only the following pseudo-classes are implemented: nth-of-type.",
     "output_type": "error",
     "traceback": [
      "\u001b[1;31m---------------------------------------------------------------------------\u001b[0m",
      "\u001b[1;31mNotImplementedError\u001b[0m                       Traceback (most recent call last)",
      "\u001b[1;32m<ipython-input-12-59476b61f1e2>\u001b[0m in \u001b[0;36m<module>\u001b[1;34m()\u001b[0m\n\u001b[0;32m     20\u001b[0m         \u001b[0mf\u001b[0m\u001b[1;33m.\u001b[0m\u001b[0mwrite\u001b[0m\u001b[1;33m(\u001b[0m\u001b[0mtemp1\u001b[0m \u001b[1;33m+\u001b[0m \u001b[0mtemp2\u001b[0m\u001b[1;33m)\u001b[0m\u001b[1;33m\u001b[0m\u001b[0m\n\u001b[0;32m     21\u001b[0m     \u001b[1;32mreturn\u001b[0m \u001b[0mtemp1\u001b[0m \u001b[1;33m+\u001b[0m \u001b[0mtemp2\u001b[0m\u001b[1;33m\u001b[0m\u001b[0m\n\u001b[1;32m---> 22\u001b[1;33m \u001b[0mget_dust_info\u001b[0m\u001b[1;33m(\u001b[0m\u001b[1;33m)\u001b[0m\u001b[1;33m\u001b[0m\u001b[0m\n\u001b[0m",
      "\u001b[1;32m<ipython-input-12-59476b61f1e2>\u001b[0m in \u001b[0;36mget_dust_info\u001b[1;34m()\u001b[0m\n\u001b[0;32m      6\u001b[0m     \u001b[0mr\u001b[0m \u001b[1;33m=\u001b[0m \u001b[0mrequests\u001b[0m\u001b[1;33m.\u001b[0m\u001b[0mget\u001b[0m\u001b[1;33m(\u001b[0m\u001b[0mURL\u001b[0m\u001b[1;33m)\u001b[0m\u001b[1;33m\u001b[0m\u001b[0m\n\u001b[0;32m      7\u001b[0m     \u001b[0msoup\u001b[0m \u001b[1;33m=\u001b[0m \u001b[0mBeautifulSoup\u001b[0m\u001b[1;33m(\u001b[0m\u001b[0mr\u001b[0m\u001b[1;33m.\u001b[0m\u001b[0mcontent\u001b[0m\u001b[1;33m,\u001b[0m \u001b[1;34m'html5lib'\u001b[0m\u001b[1;33m)\u001b[0m\u001b[1;33m\u001b[0m\u001b[0m\n\u001b[1;32m----> 8\u001b[1;33m     \u001b[0mmicro1\u001b[0m \u001b[1;33m=\u001b[0m \u001b[0msoup\u001b[0m\u001b[1;33m.\u001b[0m\u001b[0mselect\u001b[0m\u001b[1;33m(\u001b[0m\u001b[1;34m'div.main_box > div.detail_box > div > div > div:nth-child(1) > dl'\u001b[0m\u001b[1;33m)\u001b[0m\u001b[1;33m\u001b[0m\u001b[0m\n\u001b[0m\u001b[0;32m      9\u001b[0m     \u001b[0mmicro2\u001b[0m \u001b[1;33m=\u001b[0m \u001b[0msoup\u001b[0m\u001b[1;33m.\u001b[0m\u001b[0mselect\u001b[0m\u001b[1;33m(\u001b[0m\u001b[1;34m'div.main_box > div.detail_box > div > div > div:nth-child(2) > dl'\u001b[0m\u001b[1;33m)\u001b[0m\u001b[1;33m\u001b[0m\u001b[0m\n\u001b[0;32m     10\u001b[0m     \u001b[1;32mif\u001b[0m \u001b[0mmicro1\u001b[0m\u001b[1;33m:\u001b[0m\u001b[1;33m\u001b[0m\u001b[0m\n",
      "\u001b[1;32mc:\\Users\\Admin\\Anaconda3\\lib\\site-packages\\bs4\\element.py\u001b[0m in \u001b[0;36mselect\u001b[1;34m(self, selector, _candidate_generator, limit)\u001b[0m\n\u001b[0;32m   1530\u001b[0m                     print(\"    Running candidate generator on %s %s\" % (\n\u001b[0;32m   1531\u001b[0m                         tag.name, repr(tag.attrs)))\n\u001b[1;32m-> 1532\u001b[1;33m                 \u001b[1;32mfor\u001b[0m \u001b[0mcandidate\u001b[0m \u001b[1;32min\u001b[0m \u001b[0m_use_candidate_generator\u001b[0m\u001b[1;33m(\u001b[0m\u001b[0mtag\u001b[0m\u001b[1;33m)\u001b[0m\u001b[1;33m:\u001b[0m\u001b[1;33m\u001b[0m\u001b[0m\n\u001b[0m\u001b[0;32m   1533\u001b[0m                     \u001b[1;32mif\u001b[0m \u001b[1;32mnot\u001b[0m \u001b[0misinstance\u001b[0m\u001b[1;33m(\u001b[0m\u001b[0mcandidate\u001b[0m\u001b[1;33m,\u001b[0m \u001b[0mTag\u001b[0m\u001b[1;33m)\u001b[0m\u001b[1;33m:\u001b[0m\u001b[1;33m\u001b[0m\u001b[0m\n\u001b[0;32m   1534\u001b[0m                         \u001b[1;32mcontinue\u001b[0m\u001b[1;33m\u001b[0m\u001b[0m\n",
      "\u001b[1;32mc:\\Users\\Admin\\Anaconda3\\lib\\site-packages\\bs4\\element.py\u001b[0m in \u001b[0;36mrecursive_select\u001b[1;34m(tag)\u001b[0m\n\u001b[0;32m   1491\u001b[0m                         \u001b[0mprint\u001b[0m\u001b[1;33m(\u001b[0m\u001b[1;34m'    Calling select(\"%s\") recursively on %s %s'\u001b[0m \u001b[1;33m%\u001b[0m \u001b[1;33m(\u001b[0m\u001b[0mnext_token\u001b[0m\u001b[1;33m,\u001b[0m \u001b[0mtag\u001b[0m\u001b[1;33m.\u001b[0m\u001b[0mname\u001b[0m\u001b[1;33m,\u001b[0m \u001b[0mtag\u001b[0m\u001b[1;33m.\u001b[0m\u001b[0mattrs\u001b[0m\u001b[1;33m)\u001b[0m\u001b[1;33m)\u001b[0m\u001b[1;33m\u001b[0m\u001b[0m\n\u001b[0;32m   1492\u001b[0m                         \u001b[0mprint\u001b[0m\u001b[1;33m(\u001b[0m\u001b[1;34m'-'\u001b[0m \u001b[1;33m*\u001b[0m \u001b[1;36m40\u001b[0m\u001b[1;33m)\u001b[0m\u001b[1;33m\u001b[0m\u001b[0m\n\u001b[1;32m-> 1493\u001b[1;33m                     \u001b[1;32mfor\u001b[0m \u001b[0mi\u001b[0m \u001b[1;32min\u001b[0m \u001b[0mtag\u001b[0m\u001b[1;33m.\u001b[0m\u001b[0mselect\u001b[0m\u001b[1;33m(\u001b[0m\u001b[0mnext_token\u001b[0m\u001b[1;33m,\u001b[0m \u001b[0mrecursive_candidate_generator\u001b[0m\u001b[1;33m)\u001b[0m\u001b[1;33m:\u001b[0m\u001b[1;33m\u001b[0m\u001b[0m\n\u001b[0m\u001b[0;32m   1494\u001b[0m                         \u001b[1;32mif\u001b[0m \u001b[0mself\u001b[0m\u001b[1;33m.\u001b[0m\u001b[0m_select_debug\u001b[0m\u001b[1;33m:\u001b[0m\u001b[1;33m\u001b[0m\u001b[0m\n\u001b[0;32m   1495\u001b[0m                             \u001b[0mprint\u001b[0m\u001b[1;33m(\u001b[0m\u001b[1;34m'(Recursive select picked up candidate %s %s)'\u001b[0m \u001b[1;33m%\u001b[0m \u001b[1;33m(\u001b[0m\u001b[0mi\u001b[0m\u001b[1;33m.\u001b[0m\u001b[0mname\u001b[0m\u001b[1;33m,\u001b[0m \u001b[0mi\u001b[0m\u001b[1;33m.\u001b[0m\u001b[0mattrs\u001b[0m\u001b[1;33m)\u001b[0m\u001b[1;33m)\u001b[0m\u001b[1;33m\u001b[0m\u001b[0m\n",
      "\u001b[1;32mc:\\Users\\Admin\\Anaconda3\\lib\\site-packages\\bs4\\element.py\u001b[0m in \u001b[0;36mselect\u001b[1;34m(self, selector, _candidate_generator, limit)\u001b[0m\n\u001b[0;32m   1449\u001b[0m                 \u001b[1;32melse\u001b[0m\u001b[1;33m:\u001b[0m\u001b[1;33m\u001b[0m\u001b[0m\n\u001b[0;32m   1450\u001b[0m                     raise NotImplementedError(\n\u001b[1;32m-> 1451\u001b[1;33m                         'Only the following pseudo-classes are implemented: nth-of-type.')\n\u001b[0m\u001b[0;32m   1452\u001b[0m \u001b[1;33m\u001b[0m\u001b[0m\n\u001b[0;32m   1453\u001b[0m             \u001b[1;32melif\u001b[0m \u001b[0mtoken\u001b[0m \u001b[1;33m==\u001b[0m \u001b[1;34m'*'\u001b[0m\u001b[1;33m:\u001b[0m\u001b[1;33m\u001b[0m\u001b[0m\n",
      "\u001b[1;31mNotImplementedError\u001b[0m: Only the following pseudo-classes are implemented: nth-of-type."
     ]
    }
   ],
   "source": [
    "def get_dust_info():\n",
    "    #미세먼지 검색\n",
    "    dust = \"경기 용인시\" \n",
    "    dust = urllib.parse.quote(dust + \"미세먼지\")\n",
    "    URL = \"https://search.naver.com/search.naver?where=nexearch&sm=tab_etc&qvt=0&query=\" + dust   \n",
    "    r = requests.get(URL)   \n",
    "    soup = BeautifulSoup(r.content, 'html5lib')\n",
    "    micro1 = soup.select('div.main_box > div.detail_box > div > div > div:nth-child(1) > dl')\n",
    "    micro2 = soup.select('div.main_box > div.detail_box > div > div > div:nth-child(2) > dl')\n",
    "    if micro1:\n",
    "        temp1 = micro1[0].text\n",
    "    if micro2:\n",
    "        temp2 = micro2[0].text\n",
    "\n",
    "    print(temp1)\n",
    "    print(temp2)\n",
    "\n",
    "    file_path = os.path.join(dir_path, \"dust.txt\")\n",
    "    with open(file_path, 'w') as f:\n",
    "        f.write(temp1 + temp2)\n",
    "    return temp1 + temp2\n",
    "get_dust_info()"
   ]
  },
  {
   "cell_type": "code",
   "execution_count": null,
   "id": "b69ad8c9",
   "metadata": {},
   "outputs": [],
   "source": [
    "def run_tcp_server():\n",
    "    HOST = '127.0.0.1' \n",
    "    PORT = 8000       \n",
    "\n",
    "    server_socket = socket.socket(socket.AF_INET, socket.SOCK_STREAM)\n",
    "\n",
    "    server_socket.setsockopt(socket.SOL_SOCKET, socket.SO_REUSEADDR, 1)\n",
    "\n",
    "    server_socket.bind((HOST, PORT))\n",
    "\n",
    "    server_socket.listen()\n",
    "    \n",
    "    client_socket, addr = server_socket.accept()\n",
    "\n",
    "    print('Connected by', addr)\n",
    "    \n",
    "    k = 0\n",
    "    while True:\n",
    "        # 정보를 가져옵니다.\n",
    "        weather_info = get_weather_info()\n",
    "        news_info = get_news_info()\n",
    "        dust_info = get_dust_info()\n",
    "\n",
    "        # 클라이언트에게 정보를 전송합니다.\n",
    "        client_socket.sendall(str(weather_info + dust_info).encode())\n",
    "\n",
    "        # 60초 대기합니다.\n",
    "        time.sleep(60)\n",
    "            \n",
    "    client_socket.close()\n",
    "\n",
    "if __name__ == '__main__':\n",
    "    run_tcp_server()"
   ]
  },
  {
   "cell_type": "code",
   "execution_count": null,
   "id": "82b34f49",
   "metadata": {},
   "outputs": [],
   "source": []
  }
 ],
 "metadata": {
  "kernelspec": {
   "display_name": "Python 3",
   "language": "python",
   "name": "python3"
  },
  "language_info": {
   "codemirror_mode": {
    "name": "ipython",
    "version": 3
   },
   "file_extension": ".py",
   "mimetype": "text/x-python",
   "name": "python",
   "nbconvert_exporter": "python",
   "pygments_lexer": "ipython3",
   "version": "3.6.5"
  }
 },
 "nbformat": 4,
 "nbformat_minor": 5
}
