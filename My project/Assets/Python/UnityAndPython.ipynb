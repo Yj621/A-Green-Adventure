{
 "cells": [
  {
   "cell_type": "code",
   "execution_count": 1,
   "id": "d8ae3815",
   "metadata": {},
   "outputs": [
    {
     "name": "stdout",
     "output_type": "stream",
     "text": [
      "현재 온도23.6°\n"
     ]
    },
    {
     "data": {
      "text/plain": [
       "'현재 온도23.6°'"
      ]
     },
     "execution_count": 1,
     "metadata": {},
     "output_type": "execute_result"
    }
   ],
   "source": [
    "import socket\n",
    "import time\n",
    "\n",
    "import requests\n",
    "from bs4 import BeautifulSoup\n",
    "import urllib\n",
    "import os\n",
    "\n",
    "import subprocess\n",
    "\n",
    "# 파일 자동 실행\n",
    "notebook_path = \"path/to/notebook.ipynb\"\n",
    "\n",
    "subprocess.Popen([\"jupyter\", \"notebook\", notebook_path])\n",
    "\n",
    "# 현재 파일이 위치한 디렉토리의 절대경로를 구합니다.\n",
    "dir_path = os.path.abspath(os.getcwd())\n",
    "\n",
    "def get_weather_info():\n",
    "    city = \"김량장동\" \n",
    "    city = urllib.parse.quote(city + \"날씨\")\n",
    "    URL = \"https://search.naver.com/search.naver?where=nexearch&query=\" + city   \n",
    "    r = requests.get(URL)   \n",
    "    soup = BeautifulSoup(r.content, 'html5lib')\n",
    "    temp = soup.select_one('div._today > div.weather_graphic > div.temperature_text > strong').text\n",
    "    print(temp)\n",
    "\n",
    "    # 파일 경로와 이름을 결합하여 파일을 생성합니다.\n",
    "    file_path = os.path.join(dir_path, \"weather.txt\")\n",
    "    with open(file_path, 'w', encoding=\"utf-8\") as f:\n",
    "        f.write(temp)\n",
    "    return temp\n",
    "\n",
    "# get_weather_info() 함수를 호출합니다.\n",
    "get_weather_info()\n"
   ]
  },
  {
   "cell_type": "code",
   "execution_count": null,
   "id": "85074460",
   "metadata": {},
   "outputs": [],
   "source": []
  },
  {
   "cell_type": "code",
   "execution_count": 50,
   "id": "2499e04c",
   "metadata": {},
   "outputs": [
    {
     "name": "stdout",
     "output_type": "stream",
     "text": [
      " 오전 보통 대기오염도 높지 않아요. \n"
     ]
    },
    {
     "data": {
      "text/plain": [
       "' 오전 보통 대기오염도 높지 않아요.  오전 보통 대기오염도 높지 않아요. '"
      ]
     },
     "execution_count": 50,
     "metadata": {},
     "output_type": "execute_result"
    }
   ],
   "source": [
    "def get_dust_info():\n",
    "    #미세먼지 검색\n",
    "    dust = \"경기 용인시\" \n",
    "    dust = urllib.parse.quote(dust + \"미세먼지\")\n",
    "    URL = \"https://search.naver.com/search.naver?where=nexearch&sm=tab_etc&qvt=0&query=\" + dust   \n",
    "    r = requests.get(URL)   \n",
    "    soup = BeautifulSoup(r.content, 'html5lib')\n",
    "    micro1 = soup.select('div.main_box div.detail_box > div > div > div.detail_info.lv2 > dl')\n",
    "    micro2 = soup.select('div.main_box div.detail_box > div > div > div.detail_info.lv2 > dl')\n",
    "\n",
    "    temp1 = ''\n",
    "    temp2 = ''\n",
    "\n",
    "    if micro1:\n",
    "        temp1 = micro1[0].text\n",
    "    if micro2:\n",
    "        temp2 = micro2[0].text\n",
    "\n",
    "    print(temp1)\n",
    "\n",
    "    dir_path = os.getcwd()\n",
    "\n",
    "    file_path = os.path.join(dir_path, \"dust.txt\")\n",
    "    with open(file_path, 'w') as f:\n",
    "        f.write(temp1 + temp2)\n",
    "    return temp1 + temp2\n",
    "\n",
    "get_dust_info()\n"
   ]
  },
  {
   "cell_type": "code",
   "execution_count": null,
   "id": "4192cc54",
   "metadata": {},
   "outputs": [
    {
     "name": "stdout",
     "output_type": "stream",
     "text": [
      "“‘온 타임·온 버짓’ 한국 원전산업, 탄소중립 핵심이자 국부창출 주역”\n",
      "\"원전 수출, 탄소중립 다 잡는다\"…4000억 비밀병기 SMR 정체\n",
      "예산군, 생활 속 탄소중립 실천 동참 결의\n",
      "탄소중립 의지 없는 윤석열 정부 하에서 무엇을 할 것인가? [초록發光]\n",
      "포스코인터내셔널, ‘탄소 사업’(CCS) 새 성장동력으로 제시\n",
      "2050년 경제성장률 0%우려…KDI, 국가미래전략 논의\n",
      "포스코인터내셔널, ‘탄소 포집·저장’ 신성장 동력으로 낙점\n",
      "\"정부 '제1차 탄소중립 기본계획' 절차와 내용 모든 면에서 문제\"\n",
      "\"윤석열 정부, 탄소 연평균 고작 2% 감축 계획..미래 세대에 책무 전가하는 것...\n",
      "로우카본, 탄소중립 이끌 기후테크 대표기업 '우뚝'\n"
     ]
    },
    {
     "data": {
      "text/plain": [
       "'“‘온 타임·온 버짓’ 한국 원전산업, 탄소중립 핵심이자 국부창출 주역”\\n\"원전 수출, 탄소중립 다 잡는다\"…4000억 비밀병기 SMR 정체\\n예산군, 생활 속 탄소중립 실천 동참 결의\\n탄소중립 의지 없는 윤석열 정부 하에서 무엇을 할 것인가? [초록發光]\\n포스코인터내셔널, ‘탄소 사업’(CCS) 새 성장동력으로 제시\\n2050년 경제성장률 0%우려…KDI, 국가미래전략 논의\\n포스코인터내셔널, ‘탄소 포집·저장’ 신성장 동력으로 낙점\\n\"정부 \\'제1차 탄소중립 기본계획\\' 절차와 내용 모든 면에서 문제\"\\n\"윤석열 정부, 탄소 연평균 고작 2% 감축 계획..미래 세대에 책무 전가하는 것...\\n로우카본, 탄소중립 이끌 기후테크 대표기업 \\'우뚝\\''"
      ]
     },
     "execution_count": 8,
     "metadata": {},
     "output_type": "execute_result"
    }
   ],
   "source": [
    "def get_news_info():\n",
    "    # 주제 검색\n",
    "    title = \"대한민국 탄소중립 2050\"\n",
    "    selector = 'section > div > div.group_news > ul > li a.news_tit'\n",
    "    title = urllib.parse.quote(title)\n",
    "    URL = \"https://search.naver.com/search.naver?where=news&query=\" + title   \n",
    "    r = requests.get(URL)   \n",
    "    soup = BeautifulSoup(r.content, 'html5lib')  \n",
    "    datas = [item.text for item in soup.select(selector)]\n",
    "    datas = \"\\n\".join(datas)\n",
    "    print(datas)\n",
    "    \n",
    "    file_path = os.path.join(dir_path, \"news.txt\")\n",
    "    with open(file_path, 'w') as f:\n",
    "        f.write(datas)\n",
    "    return datas\n",
    "get_news_info()\n"
   ]
  },
  {
   "cell_type": "code",
   "execution_count": null,
   "id": "b69ad8c9",
   "metadata": {},
   "outputs": [],
   "source": [
    "def run_tcp_server():\n",
    "    HOST = '127.0.0.1' \n",
    "    PORT = 8000       \n",
    "\n",
    "    server_socket = socket.socket(socket.AF_INET, socket.SOCK_STREAM)\n",
    "\n",
    "    server_socket.setsockopt(socket.SOL_SOCKET, socket.SO_REUSEADDR, 1)\n",
    "\n",
    "    server_socket.bind((HOST, PORT))\n",
    "\n",
    "    server_socket.listen()\n",
    "    \n",
    "    client_socket, addr = server_socket.accept()\n",
    "\n",
    "    print('Connected by', addr)\n",
    "    \n",
    "    k = 0\n",
    "    while True:\n",
    "        # 정보를 가져옵니다.\n",
    "        weather_info = get_weather_info()\n",
    "        news_info = get_news_info()\n",
    "        dust_info = get_dust_info()\n",
    "\n",
    "        # 클라이언트에게 정보를 전송합니다.\n",
    "        client_socket.sendall(str(weather_info + dust_info).encode())\n",
    "\n",
    "        # 60초 대기합니다.\n",
    "        time.sleep(10)\n",
    "            \n",
    "    client_socket.close()\n",
    "\n",
    "if __name__ == '__main__':\n",
    "    run_tcp_server()"
   ]
  },
  {
   "cell_type": "code",
   "execution_count": null,
   "id": "82b34f49",
   "metadata": {},
   "outputs": [],
   "source": []
  }
 ],
 "metadata": {
  "kernelspec": {
   "display_name": "Python 3",
   "language": "python",
   "name": "python3"
  },
  "language_info": {
   "codemirror_mode": {
    "name": "ipython",
    "version": 3
   },
   "file_extension": ".py",
   "mimetype": "text/x-python",
   "name": "python",
   "nbconvert_exporter": "python",
   "pygments_lexer": "ipython3",
   "version": "3.6.5"
  }
 },
 "nbformat": 4,
 "nbformat_minor": 5
}
