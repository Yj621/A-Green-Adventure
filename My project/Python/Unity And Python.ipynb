{
 "cells": [
  {
   "cell_type": "code",
   "execution_count": 1,
   "id": "85cb0913",
   "metadata": {},
   "outputs": [],
   "source": [
    "import socket\n",
    "import time\n",
    "\n",
    "import requests\n",
    "from bs4 import BeautifulSoup\n",
    "import urllib\n",
    "import os\n",
    "\n",
    "# 현재 파일이 위치한 디렉토리의 절대경로를 구합니다.\n",
    "dir_path = os.path.abspath(os.getcwd())\n",
    "\n",
    "def get_weather_info():\n",
    "    city = \"김량장동\" \n",
    "    city = urllib.parse.quote(city + \"날씨\")\n",
    "    URL = \"https://search.naver.com/search.naver?where=nexearch&query=\" + city   \n",
    "    r = requests.get(URL)   \n",
    "    soup = BeautifulSoup(r.content, 'html5lib')\n",
    "    temp = soup.select_one('div._today > div.weather_graphic > div.temperature_text > strong').text\n",
    "    print(temp)\n",
    "    \n",
    "    # 파일 경로와 이름을 결합하여 파일을 생성합니다.\n",
    "    file_path = os.path.join(dir_path, \"weather.txt\")\n",
    "    with open(file_path, \"w\", encoding=\"utf-8\") as f:\n",
    "        f.write(str(temp) + \"\\n\")\n",
    "    return temp"
   ]
  },
  {
   "cell_type": "code",
   "execution_count": 2,
   "id": "b6f1931e",
   "metadata": {},
   "outputs": [],
   "source": [
    "def get_news_info():\n",
    "    # 주제 검색\n",
    "    title = \"대한민국 탄소중립 2050\"\n",
    "    selector = 'section > div > div.group_news > ul > li a.news_tit'\n",
    "    title = urllib.parse.quote(title)\n",
    "    URL = \"https://search.naver.com/search.naver?where=news&query=\" + title   \n",
    "    r = requests.get(URL)   \n",
    "    soup = BeautifulSoup(r.content, 'html5lib')  \n",
    "    datas = [  item.text   for  item   in  soup.select(selector)]\n",
    "    datas = \"\\n\".join(datas)\n",
    "    print(datas)\n",
    "    file_path = os.path.join(dir_path, \"news.txt\")\n",
    "    with open(file_path, \"w\", encoding=\"utf-8\") as f:\n",
    "        f.write(str(datas) + \"\\n\")\n",
    "    return datas"
   ]
  },
  {
   "cell_type": "code",
   "execution_count": 3,
   "id": "991422e5",
   "metadata": {},
   "outputs": [],
   "source": [
    "def get_dust_info():\n",
    "    #미세먼지 검색\n",
    "    dust = \"경기 용인시\" \n",
    "    dust = urllib.parse.quote(dust + \"미세먼지\")\n",
    "    URL = \"https://search.naver.com/search.naver?where=nexearch&sm=tab_etc&qvt=0&query=\" + dust   \n",
    "    r = requests.get(URL)   \n",
    "    soup = BeautifulSoup(r.content, 'html5lib')\n",
    "    micro1 = soup.select(' div.main_box > div.detail_box > div > div > div:nth-child(1) > dl')\n",
    "    micro2 = soup.select(' div.main_box > div.detail_box > div > div > div:nth-child(2) > dl')\n",
    "    if micro1:\n",
    "        temp1 = micro1[0].text\n",
    "    if micro2:\n",
    "        temp2 = micro2[0].text\n",
    "\n",
    "    print(temp1)\n",
    "    print(temp2)\n",
    "    file_path = os.path.join(dir_path, \"dust.txt\")\n",
    "    with open(file_path, \"w\", encoding=\"utf-8\") as f:\n",
    "        f.write(str(temp1) + \"\\n\" + str(temp2))\n",
    "    return temp1+temp2"
   ]
  },
  {
   "cell_type": "code",
   "execution_count": 1,
   "id": "454efce6",
   "metadata": {},
   "outputs": [],
   "source": [
    "def run_tcp_server():\n",
    "    HOST = '127.0.0.1' \n",
    "    PORT = 8000       \n",
    "\n",
    "    server_socket = socket.socket(socket.AF_INET, socket.SOCK_STREAM)\n",
    "\n",
    "    server_socket.setsockopt(socket.SOL_SOCKET, socket.SO_REUSEADDR, 1)\n",
    "\n",
    "    server_socket.bind((HOST, PORT))\n",
    "\n",
    "    server_socket.listen()\n",
    "    \n",
    "    client_socket, addr = server_socket.accept()\n",
    "\n",
    "    print('Connected by', addr)\n",
    "\n",
    "    k = 0\n"
   ]
  },
  {
   "cell_type": "code",
   "execution_count": 2,
   "id": "952a7156",
   "metadata": {},
   "outputs": [
    {
     "ename": "NameError",
     "evalue": "name 'get_weather_info' is not defined",
     "output_type": "error",
     "traceback": [
      "\u001b[1;31m---------------------------------------------------------------------------\u001b[0m",
      "\u001b[1;31mNameError\u001b[0m                                 Traceback (most recent call last)",
      "Cell \u001b[1;32mIn[2], line 3\u001b[0m\n\u001b[0;32m      1\u001b[0m \u001b[39mwhile\u001b[39;00m \u001b[39mTrue\u001b[39;00m:\n\u001b[0;32m      2\u001b[0m     \u001b[39m# 정보를 가져옵니다.\u001b[39;00m\n\u001b[1;32m----> 3\u001b[0m     weather_info \u001b[39m=\u001b[39m get_weather_info()\n\u001b[0;32m      4\u001b[0m     dust_info \u001b[39m=\u001b[39m get_dust_info()\n\u001b[0;32m      6\u001b[0m     \u001b[39m# 클라이언트에게 정보를 전송합니다.\u001b[39;00m\n",
      "\u001b[1;31mNameError\u001b[0m: name 'get_weather_info' is not defined"
     ]
    }
   ],
   "source": [
    "while True:\n",
    "    # 정보를 가져옵니다.\n",
    "    weather_info = get_weather_info()\n",
    "    dust_info = get_dust_info()\n",
    "\n",
    "    # 클라이언트에게 정보를 전송합니다.\n",
    "    client_socket.sendall(str(weather_info + dust_info).encode())\n",
    "\n",
    "    # 10초 대기합니다.\n",
    "    time.sleep(10)\n",
    "        \n",
    "client_socket.close()"
   ]
  },
  {
   "cell_type": "code",
   "execution_count": 7,
   "id": "aa7fd2b8",
   "metadata": {},
   "outputs": [],
   "source": [
    "if __name__ == '__main__':\n",
    "    run_tcp_server()"
   ]
  },
  {
   "cell_type": "code",
   "execution_count": null,
   "id": "5269571a",
   "metadata": {},
   "outputs": [],
   "source": []
  }
 ],
 "metadata": {
  "kernelspec": {
   "display_name": "Python 3 (ipykernel)",
   "language": "python",
   "name": "python3"
  },
  "language_info": {
   "codemirror_mode": {
    "name": "ipython",
    "version": 3
   },
   "file_extension": ".py",
   "mimetype": "text/x-python",
   "name": "python",
   "nbconvert_exporter": "python",
   "pygments_lexer": "ipython3",
   "version": "3.9.2"
  }
 },
 "nbformat": 4,
 "nbformat_minor": 5
}
