{
 "cells": [
  {
   "cell_type": "code",
   "execution_count": null,
   "id": "85cb0913",
   "metadata": {},
   "outputs": [],
   "source": [
    "import socket\n",
    "import time\n",
    "\n",
    "import requests\n",
    "from bs4 import BeautifulSoup\n",
    "import urllib\n",
    "\n",
    "def get_weather_info():\n",
    "    city = \"김량장동\" \n",
    "    city = urllib.parse.quote(city + \"날씨\")\n",
    "    URL = \"https://search.naver.com/search.naver?where=nexearch&query=\" + city   \n",
    "    r = requests.get(URL)   \n",
    "    soup = BeautifulSoup(r.content, 'html5lib')\n",
    "    temp = soup.select_one('div._today > div.weather_graphic > div.temperature_text > strong').text\n",
    "    print(temp)\n",
    "    f = open(\"weather.txt\", 'w', encoding=\"utf-8\")\n",
    "    f.write(str(temp) + \"\\n\")\n",
    "    f.close()\n",
    "    return temp"
   ]
  },
  {
   "cell_type": "code",
   "execution_count": null,
   "id": "b6f1931e",
   "metadata": {},
   "outputs": [],
   "source": [
    "def get_news_info():\n",
    "    # 주제 검색\n",
    "    title = \"대한민국 탄소중립 2050\"\n",
    "    selector = 'section > div > div.group_news > ul > li a.news_tit'\n",
    "    title = urllib.parse.quote(title)\n",
    "    URL = \"https://search.naver.com/search.naver?where=news&query=\" + title   \n",
    "    r = requests.get(URL)   \n",
    "    soup = BeautifulSoup(r.content, 'html5lib')  \n",
    "    datas = [  item.text   for  item   in  soup.select(selector)]\n",
    "    datas = \"\\n\".join(datas)\n",
    "    print(datas)\n",
    "    f = open(\"news.txt\", 'w', encoding=\"utf-8\")\n",
    "    f.write(str(datas) + \"\\n\")\n",
    "    f.close()\n",
    "    return datas"
   ]
  },
  {
   "cell_type": "code",
   "execution_count": null,
   "id": "991422e5",
   "metadata": {},
   "outputs": [],
   "source": [
    "def get_dust_info():\n",
    "    #미세먼지 검색\n",
    "    dust = \"경기 용인시\" \n",
    "    dust = urllib.parse.quote(dust + \"미세먼지\")\n",
    "    URL = \"https://search.naver.com/search.naver?where=nexearch&sm=tab_etc&qvt=0&query=\" + dust   \n",
    "    r = requests.get(URL)   \n",
    "    soup = BeautifulSoup(r.content, 'html5lib')\n",
    "    micro1 = soup.select(' div.main_box > div.detail_box > div > div > div:nth-child(1) > dl')\n",
    "    micro2 = soup.select(' div.main_box > div.detail_box > div > div > div:nth-child(2) > dl')\n",
    "    if micro1:\n",
    "        temp1 = micro1[0].text\n",
    "    if micro2:\n",
    "        temp2 = micro2[0].text\n",
    "\n",
    "    print(temp1)\n",
    "    print(temp2)\n",
    "    f = open(\"dust.txt\", 'w', encoding=\"utf-8\")\n",
    "    f.write(str(temp1) + \"\\n\" + str(temp2))\n",
    "    f.close()\n",
    "    return temp1+temp2"
   ]
  },
  {
   "cell_type": "code",
   "execution_count": null,
   "id": "454efce6",
   "metadata": {},
   "outputs": [],
   "source": [
    "def run_tcp_server():\n",
    "    HOST = '127.0.0.1' \n",
    "    PORT = 8000       \n",
    "\n",
    "    server_socket = socket.socket(socket.AF_INET, socket.SOCK_STREAM)\n",
    "\n",
    "    server_socket.setsockopt(socket.SOL_SOCKET, socket.SO_REUSEADDR, 1)\n",
    "\n",
    "    server_socket.bind((HOST, PORT))\n",
    "\n",
    "    server_socket.listen()\n",
    "\n",
    "    client_socket, addr = server_socket.accept()\n",
    "\n",
    "    print('Connected by', addr)\n",
    "\n",
    "    k = 0"
   ]
  },
  {
   "cell_type": "code",
   "execution_count": null,
   "id": "952a7156",
   "metadata": {},
   "outputs": [],
   "source": [
    "while True:\n",
    "    weather_info = get_weather_info()\n",
    "    news_info = get_news_info()\n",
    "    dust_info = get_dust_info()"
   ]
  },
  {
   "cell_type": "code",
   "execution_count": null,
   "id": "aa7fd2b8",
   "metadata": {},
   "outputs": [],
   "source": []
  }
 ],
 "metadata": {
  "kernelspec": {
   "display_name": "Python 3 (ipykernel)",
   "language": "python",
   "name": "python3"
  },
  "language_info": {
   "codemirror_mode": {
    "name": "ipython",
    "version": 3
   },
   "file_extension": ".py",
   "mimetype": "text/x-python",
   "name": "python",
   "nbconvert_exporter": "python",
   "pygments_lexer": "ipython3",
   "version": "3.10.9"
  }
 },
 "nbformat": 4,
 "nbformat_minor": 5
}
